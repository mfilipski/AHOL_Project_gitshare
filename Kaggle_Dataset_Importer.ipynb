{
  "nbformat": 4,
  "nbformat_minor": 0,
  "metadata": {
    "colab": {
      "provenance": []
    },
    "kernelspec": {
      "name": "python3",
      "display_name": "Python 3"
    },
    "language_info": {
      "name": "python"
    }
  },
  "cells": [
    {
      "cell_type": "markdown",
      "source": [
        "# Kaggle Dataset Imports\n",
        "https://medium.com/analytics-vidhya/how-to-download-kaggle-datasets-into-google-colab-via-google-drive-dcb348d7af07"
      ],
      "metadata": {
        "id": "p3Xjml0HLfm1"
      }
    },
    {
      "cell_type": "code",
      "execution_count": null,
      "metadata": {
        "colab": {
          "base_uri": "https://localhost:8080/"
        },
        "id": "oTlFR8A-LesY",
        "outputId": "9fba5129-17a5-4f94-a872-9ef31b6437ca"
      },
      "outputs": [
        {
          "output_type": "stream",
          "name": "stdout",
          "text": [
            "Mounted at /content/drive\n"
          ]
        }
      ],
      "source": [
        "from google.colab import drive\n",
        "drive.mount('/content/drive')"
      ]
    },
    {
      "cell_type": "code",
      "source": [
        "import os\n",
        "os.environ['KAGGLE_CONFIG_DIR'] = \"/content/drive/MyDrive/Kaggle\""
      ],
      "metadata": {
        "id": "IufgtFwyLiy7"
      },
      "execution_count": null,
      "outputs": []
    },
    {
      "cell_type": "code",
      "source": [
        "%cd /content/drive/MyDrive/Kaggle/"
      ],
      "metadata": {
        "colab": {
          "base_uri": "https://localhost:8080/"
        },
        "id": "Wb1yMNMjL_a0",
        "outputId": "6eee8cdf-04b0-4240-e605-272d14cbcd64"
      },
      "execution_count": null,
      "outputs": [
        {
          "output_type": "stream",
          "name": "stdout",
          "text": [
            "/content/drive/MyDrive/Kaggle\n"
          ]
        }
      ]
    },
    {
      "cell_type": "code",
      "source": [
        "!kaggle competitions download G2Net-Gravitational-Wave-Detection"
      ],
      "metadata": {
        "colab": {
          "base_uri": "https://localhost:8080/"
        },
        "id": "IK4y3EX2MBSI",
        "outputId": "cbc1daa3-8f07-4c7d-ccac-f9905328e5c7"
      },
      "execution_count": null,
      "outputs": [
        {
          "output_type": "stream",
          "name": "stdout",
          "text": [
            "Downloading G2Net-Gravitational-Wave-Detection.zip to /content/drive/MyDrive/Kaggle\n",
            "100% 69.0G/69.0G [38:20<00:00, 40.5MB/s]\n",
            "100% 69.0G/69.0G [38:20<00:00, 32.2MB/s]\n"
          ]
        }
      ]
    },
    {
      "cell_type": "code",
      "source": [
        "# !ls"
      ],
      "metadata": {
        "colab": {
          "base_uri": "https://localhost:8080/"
        },
        "id": "guCLJ9tS2aOs",
        "outputId": "97b3e0e6-4066-4d6d-a8b0-8d766a4970b0"
      },
      "execution_count": null,
      "outputs": [
        {
          "output_type": "stream",
          "name": "stdout",
          "text": [
            "G2Net-Gravitational-Wave-Detection.zip\tsample_submission.csv  train_notfull\n",
            "Kaggle_Dataset_Importer.ipynb\t\ttest_notfull\t       ziXiOtAe\n",
            "kaggle.json\t\t\t\ttraining_labels.csv\n"
          ]
        }
      ]
    },
    {
      "cell_type": "code",
      "source": [
        "!unzip -q G2Net-Gravitational-Wave-Detection.zip -d ahol"
      ],
      "metadata": {
        "id": "70FWNJYRMW9g"
      },
      "execution_count": null,
      "outputs": []
    },
    {
      "cell_type": "code",
      "source": [
        "!ls\n"
      ],
      "metadata": {
        "colab": {
          "base_uri": "https://localhost:8080/"
        },
        "id": "KFtMLWoPP38V",
        "outputId": "7f795892-f6f7-4f8f-f0dc-f52a1ed00561"
      },
      "execution_count": null,
      "outputs": [
        {
          "output_type": "stream",
          "name": "stdout",
          "text": [
            "Kaggle_Dataset_Importer.ipynb  test_notfull\t    ziXiOtAe\n",
            "kaggle.json\t\t       training_labels.csv\n",
            "sample_submission.csv\t       train_notfull\n"
          ]
        }
      ]
    },
    {
      "cell_type": "code",
      "source": [
        "# Maybe try this if doing it with unzip doesn't work well. \n",
        "# import zipfile\n",
        "# for file in os.listdir():\n",
        "#     if file.endswith(\".zip\"):\n",
        "#         with zipfile.ZipFile(file, \"r\") as zip_file:\n",
        "#             zip_file.extractall()\n",
        "#         os.remove(file)"
      ],
      "metadata": {
        "id": "az3ifnP6P41T"
      },
      "execution_count": null,
      "outputs": []
    },
    {
      "cell_type": "code",
      "source": [
        "%ls"
      ],
      "metadata": {
        "colab": {
          "base_uri": "https://localhost:8080/"
        },
        "id": "eBekwElfQHLh",
        "outputId": "c3f80a08-0226-46ee-a103-4dfe1e4bfea4"
      },
      "execution_count": null,
      "outputs": [
        {
          "output_type": "stream",
          "name": "stdout",
          "text": [
            "Kaggle_Dataset_Importer.ipynb  sample_submission.csv  \u001b[0m\u001b[01;34mtrain\u001b[0m/\n",
            "kaggle.json                    \u001b[01;34mtest\u001b[0m/                  training_labels.csv\n"
          ]
        }
      ]
    },
    {
      "cell_type": "code",
      "source": [],
      "metadata": {
        "id": "3z6biSDPCUXR"
      },
      "execution_count": null,
      "outputs": []
    }
  ]
}